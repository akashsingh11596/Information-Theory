{
  "nbformat": 4,
  "nbformat_minor": 0,
  "metadata": {
    "colab": {
      "name": "ENCODING AND DECODING OF MESSAGE TRANSMITTED OVER SINUSOIDAL WAVE",
      "provenance": [],
      "collapsed_sections": [],
      "include_colab_link": true
    },
    "kernelspec": {
      "name": "python3",
      "display_name": "Python 3"
    }
  },
  "cells": [
    {
      "cell_type": "markdown",
      "metadata": {
        "id": "view-in-github",
        "colab_type": "text"
      },
      "source": [
        "<a href=\"https://colab.research.google.com/github/akashsingh11596/Information-Theory/blob/main/ENCODING_AND_DECODING_OF_MESSAGE_TRANSMITTED_OVER_SINUSOIDAL_WAVE.ipynb\" target=\"_parent\"><img src=\"https://colab.research.google.com/assets/colab-badge.svg\" alt=\"Open In Colab\"/></a>"
      ]
    },
    {
      "cell_type": "markdown",
      "metadata": {
        "id": "IEvRvGNWhJow"
      },
      "source": [
        "**ENCODING AND DECODING OF MESSAGE TRANSMITTED OVER SINUSOIDAL WAVE**"
      ]
    },
    {
      "cell_type": "markdown",
      "metadata": {
        "id": "y__ryNSFhtga"
      },
      "source": [
        "**NAME - AKASH SINGH**\n",
        "\n",
        "**UNIVERSITY OF REGINA**\n",
        "\n"
      ]
    },
    {
      "cell_type": "markdown",
      "metadata": {
        "id": "bsUKY8sWiisP"
      },
      "source": [
        "**PART 1: PROBLEM DEFINITION**\n",
        "\n",
        "In this python notebook, we will encode a message over a carrier wave which, is a sinusoidal wave. This message once encoded will be transmitted and later, will be decoded in another function. We have to make two function named encode() and decode(). Within these functions the message and the signal will be passed as a parameter respectively."
      ]
    },
    {
      "cell_type": "code",
      "metadata": {
        "id": "iY8qfI4U_yb1"
      },
      "source": [
        "import numpy as np\n",
        "import math\n",
        "import struct\n",
        "from scipy import signal as sg\n",
        "import matplotlib\n",
        "import matplotlib.pyplot as plt\n",
        "import binascii"
      ],
      "execution_count": null,
      "outputs": []
    },
    {
      "cell_type": "markdown",
      "metadata": {
        "id": "eJxeY_PCzm_w"
      },
      "source": [
        "**PART 2: GENERATION OF A CARRIER SIGNAL**\n",
        "\n",
        "First, we will generate a carrier wave. After generation, we will encode a message over it.\n",
        "To generate a carrier wave, we will first calculate the total number of points needed for mapping of a wave.\n",
        "\n",
        "To calculate the points required for mapping, we first have to decide the number of samples. These samples will be used to represent a bit. We will also calculate the time. This time represents the period of a wave. The information is further transformed into Binary from ASCII. A variable message stores the binary value that we get from the conversion.\n",
        "The sample per bit will then be  multiplied by the length of the message to give us the final sample needed for wave mapping  on graph.\n",
        "\n",
        "The spaces in the message entered by us will also be converted in binary form and then later on decode in the code.\n",
        "\n",
        "On plotting this carrier signal, we will get a sinusoidal wave.\n",
        "\n",
        "\n",
        "**PART 3: GENERATING AND ENCODING OF MESSAGE SIGNAL**\n",
        "\n",
        "Now we will generate and decode the message signal. The variable \"message\" stores a list of 0 and 1. These numbers are the list of amplitudes. For encoding variable \"message\", we have used a scheme where we are replacing zero with one and one with two.\n",
        "On plotting this message signal, we will get a square wave. We get a square wave because we only have two values, in the message which are zero and one.  \n",
        "\n",
        "The new numbers that the scheme generates are appending in list variable messageList.\n",
        "Now we will generate the final signal. The signal generation will be done by multiplying the message signal by the carrier signal. This value of the signal is shown in the graph by using 'matplotlib'.\n",
        "\n",
        "We have mapped the final signal in the notebook to represent how the signal will look when transmitted.\n",
        "\n"
      ]
    },
    {
      "cell_type": "code",
      "metadata": {
        "id": "3_6Eh44Ti1AX",
        "colab": {
          "base_uri": "https://localhost:8080/",
          "height": 269
        },
        "outputId": "7bb1849d-ff9e-4c99-87ed-7b0c8c73459e"
      },
      "source": [
        "def encode(asciiMessage):\n",
        "  asciiMessage = asciiMessage\n",
        "  global length\n",
        "  global spb\n",
        "  global signalLength\n",
        "  spb = 6\n",
        "  cpb = 2\n",
        "  T = spb/cpb\n",
        "  \n",
        "  binMessage =bin(int.from_bytes(asciiMessage.encode(), 'big'))\n",
        "  binMessage = binMessage.replace(\"b\",\"\")\n",
        "  message = []\n",
        "  for bit in binMessage:\n",
        "    message.append(int(bit))\n",
        "  \n",
        "  message.pop(0)    \n",
        "  samples = spb*len(message)\n",
        "  x = np.arange(samples)\n",
        "  carrier = np.sin(2*np.pi*(1/T)*(x))\n",
        "  x_list = x.tolist()\n",
        "  \n",
        "  messageList = []\n",
        "  for bit in message:\n",
        "    if bit is 0:\n",
        "      for i in range(0,spb):\n",
        "        messageList.append(1)\n",
        "    else:\n",
        "      for i in range(0,spb):\n",
        "        messageList.append(2)\n",
        "  message = messageList\n",
        "  length = len(message)\n",
        "  signal = carrier * message\n",
        "  signalLength = len(signal)\n",
        "  % matplotlib inline\n",
        "  plt.stem(x,signal, 'r')\n",
        "  plt.plot(x,signal)\n",
        "  \n",
        "  message1 = message\n",
        "  message1.extend(x_list)\n",
        "  \n",
        "  return signal\n",
        "\n",
        "asciiMessage = 'H'\n",
        "signal = encode(asciiMessage)\n"
      ],
      "execution_count": null,
      "outputs": [
        {
          "output_type": "display_data",
          "data": {
            "image/png": "[encoded data removed]",
            "text/plain": [
              "<Figure size 432x288 with 1 Axes>"
            ]
          },
          "metadata": {
            "tags": []
          }
        }
      ]
    },
    {
      "cell_type": "markdown",
      "metadata": {
        "id": "Ae38B4Am2Z69"
      },
      "source": [
        "Above is the final wave obtained by combining the carrier signal and the message signal."
      ]
    },
    {
      "cell_type": "markdown",
      "metadata": {
        "id": "W6wJi3P2-IBp"
      },
      "source": [
        "**PART 4: DECODING OF THE WAVE**\n",
        "\n",
        "Next step which comes after encoding of message is decoding. \n",
        "\n",
        "For decoding, we are using a loop and if statement. This loop will run through all the elements of the signal list and then compare them with the set value. If the value of the element in the list is greater than the set value then, the appending value in the list will be 1 otherwise 0 will be appended."
      ]
    },
    {
      "cell_type": "code",
      "metadata": {
        "id": "3d5rIxA87Znu",
        "colab": {
          "base_uri": "https://localhost:8080/",
          "height": 255
        },
        "outputId": "4f7bccd9-2237-4921-b0d4-9bdd3fb50bb3"
      },
      "source": [
        "print(signalLength)\n",
        "print(signal)  \n",
        "final_list = []\n",
        "def decode(signal):\n",
        "  global a\n",
        "  a = 0\n",
        "  for i in range(0,signalLength):\n",
        "    a = a+1\n",
        "    if (a == spb):\n",
        "      if signal[i] > 1.5 or signal[i]< -1.5:\n",
        "        final_list.append(1)\n",
        "        a=0\n",
        "      else:\n",
        "        final_list.append(0)\n",
        "        a=0\n",
        "  return final_list\n",
        "    \n",
        "    \n",
        "decoded_signal = decode(signal)\n",
        "print(decoded_signal)\n",
        "print(len(decoded_signal))"
      ],
      "execution_count": null,
      "outputs": [
        {
          "output_type": "stream",
          "text": [
            "42\n",
            "[ 0.00000000e+00  1.73205081e+00 -1.73205081e+00 -4.89858720e-16\n",
            "  1.73205081e+00 -1.73205081e+00 -4.89858720e-16  8.66025404e-01\n",
            " -8.66025404e-01 -7.34788079e-16  8.66025404e-01 -8.66025404e-01\n",
            " -9.79717439e-16  8.66025404e-01 -8.66025404e-01 -4.77736048e-15\n",
            "  8.66025404e-01 -8.66025404e-01 -2.93915232e-15  1.73205081e+00\n",
            " -1.73205081e+00 -3.42901104e-15  1.73205081e+00 -1.73205081e+00\n",
            " -1.95943488e-15  8.66025404e-01 -8.66025404e-01 -9.30979160e-15\n",
            "  8.66025404e-01 -8.66025404e-01 -9.55472096e-15  8.66025404e-01\n",
            " -8.66025404e-01 -9.79965032e-15  8.66025404e-01 -8.66025404e-01\n",
            " -2.93915232e-15  8.66025404e-01 -8.66025404e-01 -1.02895090e-14\n",
            "  8.66025404e-01 -8.66025404e-01]\n",
            "[1, 0, 0, 1, 0, 0, 0]\n",
            "7\n"
          ],
          "name": "stdout"
        }
      ]
    },
    {
      "cell_type": "markdown",
      "metadata": {
        "id": "C8GfpOZ2_RjG"
      },
      "source": [
        "**PART 5: CONVERSION FROM BINARY TO ASCII**\n",
        "\n",
        "The last thing we will do is the conversion of the data which we have received after decoding the signal. This is done so that we can understand what the decrypted text in the binary form means. "
      ]
    },
    {
      "cell_type": "code",
      "metadata": {
        "id": "dKoJ3PabhD0K",
        "colab": {
          "base_uri": "https://localhost:8080/",
          "height": 34
        },
        "outputId": "2e527987-b3ce-4f2a-b794-1b93adfb28dc"
      },
      "source": [
        "str1 =''.join(str(e) for e in decoded_signal)\n",
        "n = int(str1, 2)\n",
        "n.to_bytes((n.bit_length() + 7) // 8, 'big').decode()"
      ],
      "execution_count": null,
      "outputs": [
        {
          "output_type": "execute_result",
          "data": {
            "text/plain": [
              "'H'"
            ]
          },
          "metadata": {
            "tags": []
          },
          "execution_count": 4
        }
      ]
    },
    {
      "cell_type": "markdown",
      "metadata": {
        "id": "m7r3IPrbAEhf"
      },
      "source": [
        "**REFERENCES**\n",
        "\n",
        "Gist. (2019). generatingSignals.ipynb. [online] Available at: https://gist.github.com/trevortomesh/7df84a9e049ebeeed09f765ba22598f0 [Accessed 25 Jun. 2019].\n",
        "\n",
        "versa, C., Tran, M. and Burns, K. (2019). Convert binary to ASCII and vice versa. [online] Stack Overflow. Available at: https://stackoverflow.com/questions/7396849/convert-binary-to-ascii-and-vice-versa [Accessed 25 Jun. 2019]."
      ]
    },
    {
      "cell_type": "code",
      "metadata": {
        "id": "ap9rl-ZUa4Ms"
      },
      "source": [
        ""
      ],
      "execution_count": null,
      "outputs": []
    }
  ]
}